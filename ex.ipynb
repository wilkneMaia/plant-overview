{
 "cells": [
  {
   "cell_type": "code",
   "execution_count": 2,
   "metadata": {},
   "outputs": [],
   "source": [
    "import pandas as pd"
   ]
  },
  {
   "cell_type": "code",
   "execution_count": 3,
   "metadata": {},
   "outputs": [],
   "source": [
    "\n",
    "df = pd.read_csv(\"data/arquivo.csv\", usecols=[\"ID\", \"Plant Name\", \"Date\", \"SN\", \"Port\", \"Energy (kWh)\", \"Microinversor\"])\n",
    "df = df.rename(columns={\"Energy (kWh)\": \"Energy\"})  # Renomeia para \"Energy\"\n",
    "df[\"Date\"] = pd.to_datetime(df[\"Date\"])  # Converte a coluna \"Date\" para datetime\n",
    "df.to_csv(\"data/arquivo.csv\", index=False)"
   ]
  },
  {
   "cell_type": "code",
   "execution_count": 3,
   "metadata": {},
   "outputs": [
    {
     "data": {
      "text/html": [
       "<div>\n",
       "<style scoped>\n",
       "    .dataframe tbody tr th:only-of-type {\n",
       "        vertical-align: middle;\n",
       "    }\n",
       "\n",
       "    .dataframe tbody tr th {\n",
       "        vertical-align: top;\n",
       "    }\n",
       "\n",
       "    .dataframe thead th {\n",
       "        text-align: right;\n",
       "    }\n",
       "</style>\n",
       "<table border=\"1\" class=\"dataframe\">\n",
       "  <thead>\n",
       "    <tr style=\"text-align: right;\">\n",
       "      <th></th>\n",
       "      <th>ID</th>\n",
       "      <th>Plant Name</th>\n",
       "      <th>Date</th>\n",
       "      <th>SN</th>\n",
       "      <th>Port</th>\n",
       "      <th>Energy</th>\n",
       "      <th>Microinversor</th>\n",
       "    </tr>\n",
       "  </thead>\n",
       "  <tbody>\n",
       "    <tr>\n",
       "      <th>0</th>\n",
       "      <td>1</td>\n",
       "      <td>Wilkne</td>\n",
       "      <td>2024-11-27</td>\n",
       "      <td>106272403152</td>\n",
       "      <td>1</td>\n",
       "      <td>2.131</td>\n",
       "      <td>Microinversor_1</td>\n",
       "    </tr>\n",
       "    <tr>\n",
       "      <th>1</th>\n",
       "      <td>2</td>\n",
       "      <td>Wilkne</td>\n",
       "      <td>2024-11-27</td>\n",
       "      <td>106272403152</td>\n",
       "      <td>2</td>\n",
       "      <td>2.109</td>\n",
       "      <td>Microinversor_1</td>\n",
       "    </tr>\n",
       "    <tr>\n",
       "      <th>2</th>\n",
       "      <td>3</td>\n",
       "      <td>Wilkne</td>\n",
       "      <td>2024-11-27</td>\n",
       "      <td>106272403152</td>\n",
       "      <td>3</td>\n",
       "      <td>2.105</td>\n",
       "      <td>Microinversor_1</td>\n",
       "    </tr>\n",
       "    <tr>\n",
       "      <th>3</th>\n",
       "      <td>4</td>\n",
       "      <td>Wilkne</td>\n",
       "      <td>2024-11-27</td>\n",
       "      <td>106272403152</td>\n",
       "      <td>4</td>\n",
       "      <td>2.152</td>\n",
       "      <td>Microinversor_1</td>\n",
       "    </tr>\n",
       "    <tr>\n",
       "      <th>4</th>\n",
       "      <td>5</td>\n",
       "      <td>Wilkne</td>\n",
       "      <td>2024-11-27</td>\n",
       "      <td>106272403916</td>\n",
       "      <td>1</td>\n",
       "      <td>2.098</td>\n",
       "      <td>Microinversor_2</td>\n",
       "    </tr>\n",
       "  </tbody>\n",
       "</table>\n",
       "</div>"
      ],
      "text/plain": [
       "   ID Plant Name       Date            SN  Port  Energy    Microinversor\n",
       "0   1     Wilkne 2024-11-27  106272403152     1   2.131  Microinversor_1\n",
       "1   2     Wilkne 2024-11-27  106272403152     2   2.109  Microinversor_1\n",
       "2   3     Wilkne 2024-11-27  106272403152     3   2.105  Microinversor_1\n",
       "3   4     Wilkne 2024-11-27  106272403152     4   2.152  Microinversor_1\n",
       "4   5     Wilkne 2024-11-27  106272403916     1   2.098  Microinversor_2"
      ]
     },
     "execution_count": 3,
     "metadata": {},
     "output_type": "execute_result"
    }
   ],
   "source": [
    "df.head()"
   ]
  }
 ],
 "metadata": {
  "kernelspec": {
   "display_name": ".venv",
   "language": "python",
   "name": "python3"
  },
  "language_info": {
   "codemirror_mode": {
    "name": "ipython",
    "version": 3
   },
   "file_extension": ".py",
   "mimetype": "text/x-python",
   "name": "python",
   "nbconvert_exporter": "python",
   "pygments_lexer": "ipython3",
   "version": "3.12.4"
  }
 },
 "nbformat": 4,
 "nbformat_minor": 2
}
